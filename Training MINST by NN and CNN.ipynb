{
 "cells": [
  {
   "cell_type": "code",
   "execution_count": 41,
   "metadata": {},
   "outputs": [
    {
     "name": "stdout",
     "output_type": "stream",
     "text": [
      "torch.Size([100, 1, 28, 28])\n"
     ]
    },
    {
     "data": {
      "text/plain": [
       "<matplotlib.image.AxesImage at 0x27e9240e4e0>"
      ]
     },
     "execution_count": 41,
     "metadata": {},
     "output_type": "execute_result"
    },
    {
     "data": {
      "image/png": "[encoded data removed]",
      "text/plain": [
       "<Figure size 432x288 with 1 Axes>"
      ]
     },
     "metadata": {
      "needs_background": "light"
     },
     "output_type": "display_data"
    }
   ],
   "source": [
    "import torch\n",
    "import torchvision\n",
    "from torchvision import transforms, datasets\n",
    "import time\n",
    "train = datasets.MNIST('', train=True, download=True, \n",
    "                       transform=transforms.Compose([\n",
    "                                transforms.ToTensor()\n",
    "                            ]))\n",
    "test = datasets.MNIST('', train=False, download=True, \n",
    "                       transform=transforms.Compose([\n",
    "                                transforms.ToTensor()\n",
    "                            ]))\n",
    "\n",
    "trainset = torch.utils.data.DataLoader(train, batch_size=100, shuffle=True, pin_memory=True)\n",
    "testset = torch.utils.data.DataLoader(test, batch_size=100, shuffle=True, pin_memory=True)\n",
    "                                      \n",
    "# show an image for example\n",
    "import matplotlib.pyplot as plt\n",
    "X, y = iter(trainset).next()\n",
    "print(X.shape) # the batch is 10 example. And each example is 28 * 28 pixels\n",
    "plt.imshow(X[0].view(28, 28)) # the image size is 28 by 28"
   ]
  },
  {
   "cell_type": "code",
   "execution_count": 42,
   "metadata": {},
   "outputs": [],
   "source": [
    "import torch.nn as nn\n",
    "import torch.nn.functional as F\n",
    "import torch.optim as optim"
   ]
  },
  {
   "cell_type": "code",
   "execution_count": 43,
   "metadata": {},
   "outputs": [],
   "source": [
    "class Net(nn.Module):\n",
    "    def __init__(self):\n",
    "        super().__init__()\n",
    "        # an affine operation: y = Wx + b\n",
    "        self.fc1 = nn.Linear(28 * 28, 64)  # the image size is 28 by 28\n",
    "        self.fc2 = nn.Linear(64, 64)\n",
    "        self.fc3 = nn.Linear(64, 64)\n",
    "        self.fc4 = nn.Linear(64, 10)\n",
    "        \n",
    "    def forward(self, x):\n",
    "        x = F.relu(self.fc1(x))\n",
    "        x = F.relu(self.fc2(x))\n",
    "        x = F.relu(self.fc3(x))\n",
    "        x = self.fc4(x)\n",
    "        \n",
    "        return F.log_softmax(x, dim=1)"
   ]
  },
  {
   "cell_type": "code",
   "execution_count": 44,
   "metadata": {},
   "outputs": [
    {
     "name": "stdout",
     "output_type": "stream",
     "text": [
      "tensor(0.1997, grad_fn=<NllLossBackward>)\n",
      "tensor(0.2047, grad_fn=<NllLossBackward>)\n",
      "CPU Spent Time: 19.554386\n"
     ]
    }
   ],
   "source": [
    "start_time = time.time()\n",
    "\n",
    "net = Net() # inital network \n",
    "optimizer = optim.Adam(net.parameters(), lr=0.001)  # create a Adam optimizer\n",
    "\n",
    "net.train()\n",
    "epochs = 2\n",
    "for epoch in range(epochs):\n",
    "    for data in trainset:\n",
    "        X, y = data\n",
    "        # training process\n",
    "        optimizer.zero_grad()    # clear the gradient calculated previously\n",
    "        predicted = net(X.view(-1, 28 * 28))  # put the mini-batch training data to Nerual Network, and get the predicted labels\n",
    "        loss = F.nll_loss(predicted, y)  # compare the predicted labels with ground-truth labels\n",
    "        loss.backward()      # compute the gradient\n",
    "        optimizer.step()     # optimize the network\n",
    "    print(loss)\n",
    "    \n",
    "print(\"CPU Spent Time: %f\" % (time.time() - start_time))    "
   ]
  },
  {
   "cell_type": "code",
   "execution_count": 45,
   "metadata": {},
   "outputs": [
    {
     "name": "stdout",
     "output_type": "stream",
     "text": [
      "Training data Accuracy: 57105/60000 = 0.952\n",
      "testing data Accuracy: 9503/10000 = 0.95\n",
      "CPU Spent Time: 8.806992\n"
     ]
    }
   ],
   "source": [
    "# Evaluation the training data\n",
    "start_time = time.time()\n",
    "\"\"\"\n",
    "model.train()\" and \"model.eval()\" activates and deactivates Dropout and BatchNorm, so it is quite important. \n",
    "\"with torch.no_grad()\" only deactivates gradient calculations, but doesn't turn off Dropout and BatchNorm.\n",
    "Your model accuracy will therefore be lower if you don't use model.eval() when evaluating the model.\n",
    "\"\"\"\n",
    "net.eval()\n",
    "\n",
    "correct = 0\n",
    "total = 0\n",
    "with torch.no_grad():\n",
    "    for data in trainset:\n",
    "        X, y = data\n",
    "        output = net(X.view(-1, 28 * 28))\n",
    "        correct += (torch.argmax(output, dim=1) == y).sum().item()\n",
    "        total += y.size(0)\n",
    "\n",
    "print(f'Training data Accuracy: {correct}/{total} = {round(correct/total, 3)}')\n",
    "\n",
    "# Evaluation the testing data\n",
    "correct = 0\n",
    "total = 0\n",
    "with torch.no_grad():\n",
    "    for data in testset:\n",
    "        X, y = data\n",
    "        output = net(X.view(-1, 28 * 28))\n",
    "        correct += (torch.argmax(output, dim=1) == y).sum().item()\n",
    "        total += y.size(0)\n",
    "\n",
    "print(f'testing data Accuracy: {correct}/{total} = {round(correct/total, 3)}')\n",
    "\n",
    "print(\"CPU Spent Time: %f\" % (time.time() - start_time))     \n"
   ]
  },
  {
   "cell_type": "code",
   "execution_count": 46,
   "metadata": {},
   "outputs": [
    {
     "name": "stdout",
     "output_type": "stream",
     "text": [
      "cuda:0\n",
      "tensor(0.2444, device='cuda:0', grad_fn=<NllLossBackward>)\n",
      "tensor(0.0567, device='cuda:0', grad_fn=<NllLossBackward>)\n",
      "GPU Spent Time: 19.941451\n"
     ]
    }
   ],
   "source": [
    "# The GPU version\n",
    "torch.cuda.init()\n",
    "start_time = time.time()\n",
    "\n",
    "device = torch.device(\"cuda:0\" if torch.cuda.is_available() else \"cpu\")\n",
    "print(device)\n",
    "\n",
    "net = Net() # inital network \n",
    "net.to(device) #these methods will recursively go over all modules and convert their parameters and buffers to CUDA tensors:\n",
    "optimizer = optim.Adam(net.parameters(), lr=0.001)  # create a Adam optimizer\n",
    "\n",
    "net.train()\n",
    "epochs = 2\n",
    "\n",
    "for epoch in range(epochs):\n",
    "    for data in trainset:\n",
    "        X, y = data\n",
    "        X, y = X.to(device), y.to(device)   # Remember that you will have to send the inputs and targets at every step to the GPU too\n",
    "        # training process\n",
    "        optimizer.zero_grad()    # clear the gradient calculated previously\n",
    "        predicted = net(X.view(-1, 28 * 28))  # put the mini-batch training data to Nerual Network, and get the predicted labels\n",
    "        loss = F.nll_loss(predicted, y)  # compare the predicted labels with ground-truth labels\n",
    "        loss.backward()      # compute the gradient\n",
    "        optimizer.step()     # optimize the network\n",
    "    print(loss)\n",
    "    \n",
    "print(\"GPU Spent Time: %f\" % (time.time() - start_time))    "
   ]
  },
  {
   "cell_type": "code",
   "execution_count": 47,
   "metadata": {},
   "outputs": [
    {
     "name": "stdout",
     "output_type": "stream",
     "text": [
      "Training data Accuracy: 57221/60000 = 0.954\n",
      "testing data Accuracy: 9486/10000 = 0.949\n",
      "GPU Spent Time: 8.062385\n"
     ]
    }
   ],
   "source": [
    "# Evaluation the training data\n",
    "start_time = time.time()\n",
    "\n",
    "net.eval()\n",
    "\n",
    "correct = 0\n",
    "total = 0\n",
    "with torch.no_grad():\n",
    "    for data in trainset:\n",
    "        X, y = data\n",
    "        X, y = X.to(device), y.to(device)   # Remember that you will have to send the inputs and targets at every step to the GPU too\n",
    "        output = net(X.view(-1, 28 * 28))\n",
    "        correct += (torch.argmax(output, dim=1) == y).sum().item()\n",
    "        total += y.size(0)\n",
    "\n",
    "print(f'Training data Accuracy: {correct}/{total} = {round(correct/total, 3)}')\n",
    "\n",
    "# Evaluation the testing data\n",
    "correct = 0\n",
    "total = 0\n",
    "with torch.no_grad():\n",
    "    for data in testset:\n",
    "        X, y = data\n",
    "        X, y = X.to(device), y.to(device)   # Remember that you will have to send the inputs and targets at every step to the GPU too\n",
    "        output = net(X.view(-1, 28 * 28))\n",
    "        correct += (torch.argmax(output, dim=1) == y).sum().item()\n",
    "        total += y.size(0)\n",
    "\n",
    "print(f'testing data Accuracy: {correct}/{total} = {round(correct/total, 3)}')\n",
    "\n",
    "print(\"GPU Spent Time: %f\" % (time.time() - start_time))    \n",
    "\n",
    "# Note:\n",
    "# In this projects the GPU is not much faster than CPU, the one reason is that this nerual network is very small, \n",
    "# and the batch size also effect the speed. "
   ]
  }
 ],
 "metadata": {
  "kernelspec": {
   "display_name": "Python 3",
   "language": "python",
   "name": "python3"
  },
  "language_info": {
   "codemirror_mode": {
    "name": "ipython",
    "version": 3
   },
   "file_extension": ".py",
   "mimetype": "text/x-python",
   "name": "python",
   "nbconvert_exporter": "python",
   "pygments_lexer": "ipython3",
   "version": "3.6.9"
  }
 },
 "nbformat": 4,
 "nbformat_minor": 2
}
